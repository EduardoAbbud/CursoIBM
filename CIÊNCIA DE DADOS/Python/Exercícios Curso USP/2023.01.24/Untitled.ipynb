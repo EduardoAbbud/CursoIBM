{
 "cells": [
  {
   "cell_type": "code",
   "execution_count": 7,
   "id": "82c1cc90",
   "metadata": {},
   "outputs": [
    {
     "name": "stdout",
     "output_type": "stream",
     "text": [
      "60\n",
      "109\n",
      "229\n"
     ]
    }
   ],
   "source": [
    "def soma(x,y):\n",
    "    return x+y+10\n",
    "\n",
    "print(soma(20,30))\n",
    "print(soma(99,0))\n",
    "print(soma(99,120))"
   ]
  },
  {
   "cell_type": "code",
   "execution_count": 8,
   "id": "a7fa9d98",
   "metadata": {},
   "outputs": [
    {
     "name": "stdout",
     "output_type": "stream",
     "text": [
      "109\n"
     ]
    }
   ],
   "source": [
    "print(soma(99,0))"
   ]
  },
  {
   "cell_type": "code",
   "execution_count": 10,
   "id": "877e4170",
   "metadata": {},
   "outputs": [
    {
     "name": "stdout",
     "output_type": "stream",
     "text": [
      "2430\n"
     ]
    }
   ],
   "source": [
    "def multiplica(a,b,c):\n",
    "    return a*b*c\n",
    "\n",
    "print(multiplica(10,9,soma(9,8)))"
   ]
  },
  {
   "cell_type": "code",
   "execution_count": 13,
   "id": "185e17b2",
   "metadata": {},
   "outputs": [
    {
     "name": "stdout",
     "output_type": "stream",
     "text": [
      "Eduardo Macedo Abbud\n"
     ]
    }
   ],
   "source": [
    "def nome_próprio():\n",
    "    return \"Eduardo Macedo Abbud\"\n",
    "\n",
    "print(nome_próprio())"
   ]
  },
  {
   "cell_type": "code",
   "execution_count": 16,
   "id": "bc0c8a11",
   "metadata": {},
   "outputs": [
    {
     "name": "stdout",
     "output_type": "stream",
     "text": [
      "O valor calculado é 108\n"
     ]
    }
   ],
   "source": [
    "def quieta():\n",
    "    x = soma(9,89)\n",
    "    print(\"O valor calculado é\", x)\n",
    "\n",
    "quieta()"
   ]
  },
  {
   "cell_type": "code",
   "execution_count": 40,
   "id": "abce395e",
   "metadata": {},
   "outputs": [
    {
     "name": "stdout",
     "output_type": "stream",
     "text": [
      "3628800\n",
      "6\n",
      "3628800\n"
     ]
    }
   ],
   "source": [
    "def fatorial(num):\n",
    "    Varfatorial = 1\n",
    "    i = 0\n",
    "    while num-i > 0:\n",
    "        Varfatorial = Varfatorial*(num-i)\n",
    "        i += 1\n",
    "    return Varfatorial\n",
    "    \n",
    "print(fatorial(10))\n",
    "print(fatorial(3))"
   ]
  },
  {
   "cell_type": "code",
   "execution_count": 25,
   "id": "e60f0517",
   "metadata": {},
   "outputs": [
    {
     "name": "stdout",
     "output_type": "stream",
     "text": [
      "20\n"
     ]
    }
   ],
   "source": [
    "def multiplica (a, b):\n",
    "    return a * b\n",
    "\n",
    "print(multiplica(4,5))"
   ]
  },
  {
   "cell_type": "code",
   "execution_count": 33,
   "id": "74db9b0b",
   "metadata": {
    "scrolled": true
   },
   "outputs": [
    {
     "ename": "TypeError",
     "evalue": "len() takes exactly one argument (3 given)",
     "output_type": "error",
     "traceback": [
      "\u001b[1;31m---------------------------------------------------------------------------\u001b[0m",
      "\u001b[1;31mTypeError\u001b[0m                                 Traceback (most recent call last)",
      "\u001b[1;32m~\\AppData\\Local\\Temp\\ipykernel_13456\\2642290575.py\u001b[0m in \u001b[0;36m<module>\u001b[1;34m\u001b[0m\n\u001b[0;32m      2\u001b[0m     \u001b[1;32mreturn\u001b[0m \u001b[0mlen\u001b[0m\u001b[1;33m(\u001b[0m\u001b[0mx\u001b[0m\u001b[1;33m,\u001b[0m\u001b[0my\u001b[0m\u001b[1;33m,\u001b[0m\u001b[0mz\u001b[0m\u001b[1;33m)\u001b[0m \u001b[1;31m#)+len(y)+len(z))\u001b[0m\u001b[1;33m\u001b[0m\u001b[1;33m\u001b[0m\u001b[0m\n\u001b[0;32m      3\u001b[0m \u001b[1;33m\u001b[0m\u001b[0m\n\u001b[1;32m----> 4\u001b[1;33m \u001b[0mprint\u001b[0m\u001b[1;33m(\u001b[0m\u001b[0mtotal_Caracteres\u001b[0m\u001b[1;33m(\u001b[0m\u001b[1;34m\"eu\"\u001b[0m\u001b[1;33m,\u001b[0m\u001b[1;34m\"tu\"\u001b[0m\u001b[1;33m,\u001b[0m\u001b[1;34m\"ele\"\u001b[0m\u001b[1;33m)\u001b[0m\u001b[1;33m)\u001b[0m\u001b[1;33m\u001b[0m\u001b[1;33m\u001b[0m\u001b[0m\n\u001b[0m",
      "\u001b[1;32m~\\AppData\\Local\\Temp\\ipykernel_13456\\2642290575.py\u001b[0m in \u001b[0;36mtotal_Caracteres\u001b[1;34m(x, y, z)\u001b[0m\n\u001b[0;32m      1\u001b[0m \u001b[1;32mdef\u001b[0m \u001b[0mtotal_Caracteres\u001b[0m \u001b[1;33m(\u001b[0m\u001b[0mx\u001b[0m\u001b[1;33m,\u001b[0m \u001b[0my\u001b[0m\u001b[1;33m,\u001b[0m \u001b[0mz\u001b[0m\u001b[1;33m)\u001b[0m\u001b[1;33m:\u001b[0m\u001b[1;33m\u001b[0m\u001b[1;33m\u001b[0m\u001b[0m\n\u001b[1;32m----> 2\u001b[1;33m     \u001b[1;32mreturn\u001b[0m \u001b[0mlen\u001b[0m\u001b[1;33m(\u001b[0m\u001b[0mx\u001b[0m\u001b[1;33m,\u001b[0m\u001b[0my\u001b[0m\u001b[1;33m,\u001b[0m\u001b[0mz\u001b[0m\u001b[1;33m)\u001b[0m \u001b[1;31m#)+len(y)+len(z))\u001b[0m\u001b[1;33m\u001b[0m\u001b[1;33m\u001b[0m\u001b[0m\n\u001b[0m\u001b[0;32m      3\u001b[0m \u001b[1;33m\u001b[0m\u001b[0m\n\u001b[0;32m      4\u001b[0m \u001b[0mprint\u001b[0m\u001b[1;33m(\u001b[0m\u001b[0mtotal_Caracteres\u001b[0m\u001b[1;33m(\u001b[0m\u001b[1;34m\"eu\"\u001b[0m\u001b[1;33m,\u001b[0m\u001b[1;34m\"tu\"\u001b[0m\u001b[1;33m,\u001b[0m\u001b[1;34m\"ele\"\u001b[0m\u001b[1;33m)\u001b[0m\u001b[1;33m)\u001b[0m\u001b[1;33m\u001b[0m\u001b[1;33m\u001b[0m\u001b[0m\n",
      "\u001b[1;31mTypeError\u001b[0m: len() takes exactly one argument (3 given)"
     ]
    }
   ],
   "source": [
    "def total_Caracteres (x, y, z):\n",
    "    return len(x,y,z) #)+len(y)+len(z))\n",
    "\n",
    "print(total_Caracteres(\"eu\",\"tu\",\"ele\"))"
   ]
  },
  {
   "cell_type": "code",
   "execution_count": 41,
   "id": "f2658836",
   "metadata": {},
   "outputs": [
    {
     "name": "stdout",
     "output_type": "stream",
     "text": [
      "10.0\n"
     ]
    }
   ],
   "source": [
    "def binomial(n,k):\n",
    "    return fatorial(n)/(fatorial(k)*fatorial(n-k))\n",
    "\n",
    "print(binomial(5,3))"
   ]
  },
  {
   "cell_type": "code",
   "execution_count": 45,
   "id": "05f22c08",
   "metadata": {
    "scrolled": true
   },
   "outputs": [],
   "source": [
    "def test_answer():\n",
    "    assert binomial(5,3)==100"
   ]
  },
  {
   "cell_type": "code",
   "execution_count": 47,
   "id": "3893f73d",
   "metadata": {},
   "outputs": [
    {
     "name": "stdout",
     "output_type": "stream",
     "text": [
      "4\n",
      "0\n"
     ]
    }
   ],
   "source": [
    "def maximo(a,b):\n",
    "    if a > b:\n",
    "        max = a\n",
    "    else:\n",
    "        max = b\n",
    "    print(max)\n",
    "\n",
    "maximo(3,4)\n",
    "maximo(0,-1)"
   ]
  },
  {
   "cell_type": "code",
   "execution_count": 61,
   "id": "4bef94e1",
   "metadata": {},
   "outputs": [
    {
     "name": "stdout",
     "output_type": "stream",
     "text": [
      "5\n"
     ]
    }
   ],
   "source": [
    "def maior_primo(num):\n",
    "    i = 2\n",
    "    primo = True\n",
    "    while i < num and primo:\n",
    "        resto = num % i\n",
    "        i += 1\n",
    "        if resto == 0:\n",
    "            primo = False\n",
    "            mprimo=i\n",
    "    print(num - mprimo)\n",
    "\n",
    "maior_primo(8)"
   ]
  },
  {
   "cell_type": "code",
   "execution_count": 76,
   "id": "cccf6cf2",
   "metadata": {},
   "outputs": [
    {
     "name": "stdout",
     "output_type": "stream",
     "text": [
      "7\n",
      "97\n"
     ]
    }
   ],
   "source": [
    "def primo(num):\n",
    "#num = int(input(\"Número: \"))\n",
    "    i = 2\n",
    "    primo = True\n",
    "    while i < num and primo:\n",
    "        resto = num % i\n",
    "        i += 1\n",
    "        if resto == 0:\n",
    "            primo = False\n",
    "\n",
    "    if primo:\n",
    "        return \"primo\"\n",
    "    else:\n",
    "        return \"não primo\"\n",
    "\n",
    "def maxprimo(numM):\n",
    "    i = numM\n",
    "    primoV = True\n",
    "    while i > 0 and primoV:\n",
    "        a = primo(i)\n",
    "        if a != \"não primo\":\n",
    "            print(i)\n",
    "            primoV = False\n",
    "        i = i - 1\n",
    "\n",
    "maxprimo(8)\n",
    "maxprimo(100)"
   ]
  },
  {
   "cell_type": "code",
   "execution_count": 85,
   "id": "9f7c6d3b",
   "metadata": {},
   "outputs": [
    {
     "name": "stdout",
     "output_type": "stream",
     "text": [
      "True\n",
      "False\n",
      "True\n"
     ]
    }
   ],
   "source": [
    "def vogal(letra):\n",
    "    if letra != \"a\" and letra != \"e\" and letra != \"i\" and letra != \"o\" and letra != \"u\" and letra != \"A\" and letra != \"E\" and letra != \"I\" and letra != \"O\" and letra != \"U\":\n",
    "        return False\n",
    "    else:\n",
    "        return True\n",
    "\n",
    "print(vogal(\"a\"))\n",
    "print(vogal(\"b\"))\n",
    "print(vogal(\"E\"))"
   ]
  },
  {
   "cell_type": "code",
   "execution_count": 87,
   "id": "c2ce6b1c",
   "metadata": {},
   "outputs": [
    {
     "name": "stdout",
     "output_type": "stream",
     "text": [
      "Fizz\n",
      "Buzz\n",
      "FizzBuzz\n",
      "4\n"
     ]
    }
   ],
   "source": [
    "def fizzbuzz(VarA):\n",
    "    div3 = VarA % 3\n",
    "    div5 = VarA % 5\n",
    "\n",
    "    if div3 == 0 and div5 != 0:\n",
    "        return \"Fizz\"\n",
    "    else:\n",
    "        if div3 != 0 and div5 == 0:\n",
    "            return \"Buzz\"\n",
    "        else:\n",
    "            if div3 == 0 and div5 == 0:\n",
    "                return \"FizzBuzz\"\n",
    "            else:\n",
    "                return VarA\n",
    "        \n",
    "print(fizzbuzz(3))\n",
    "print(fizzbuzz(5))\n",
    "print(fizzbuzz(15))\n",
    "print(fizzbuzz(4))"
   ]
  },
  {
   "cell_type": "code",
   "execution_count": 88,
   "id": "7d812a01",
   "metadata": {},
   "outputs": [
    {
     "name": "stdout",
     "output_type": "stream",
     "text": [
      "30\n",
      "1\n"
     ]
    }
   ],
   "source": [
    "def maximo(a,b,c):\n",
    "    if a > b and a > c:\n",
    "        max = a\n",
    "    else:\n",
    "        if b > c:\n",
    "            max = b\n",
    "        else:\n",
    "            max = c\n",
    "    return max\n",
    "\n",
    "print(maximo(30,14,10))\n",
    "print(maximo(0,-1,1))"
   ]
  },
  {
   "cell_type": "code",
   "execution_count": 156,
   "id": "3516c4da",
   "metadata": {},
   "outputs": [],
   "source": [
    "def valida(x,m):\n",
    "    jog_U_inval = True\n",
    "    while jog_U_inval:\n",
    "        jogada_U = x #float(input(\"Peças:\"))\n",
    "        if x % 1 != 0: #jog_U_inval = True\n",
    "            print(\"Valor deve ser inteiro!\")\n",
    "        else:\n",
    "            if jogada_U > m: #jog_U_inval = True\n",
    "                print(\"Valor deve ser menor ou igual a\", m,\"!!\")\n",
    "            else:\n",
    "                if jogada_U == 0: #jog_U_inval = True\n",
    "                    print(\"Você é obrigado a tirar pelo menos uma peça!!\")\n",
    "                else:\n",
    "                    if jogada_U < 0: #jog_U_inval = True\n",
    "                        print(\"Digite um número inteiro positivo!!\")\n",
    "                    else:\n",
    "                        jog_U_inval = False\n",
    "                        jogada_U = int(jogada_U)\n",
    "valida(2,2)"
   ]
  },
  {
   "cell_type": "code",
   "execution_count": 19,
   "id": "b5904f74",
   "metadata": {},
   "outputs": [],
   "source": [
    "#  Uma função computador_escolhe_jogada que recebe, como parâmetros, os números\n",
    "# n e m descritos acima e devolve um inteiro correspondente à próxima jogada do \n",
    "# computador (ou seja, quantas peças o computador deve retirar do tabuleiro) de \n",
    "# acordo com a estratégia vencedora.\n",
    "\n",
    "def computador_escolhe_jogada(n,m):\n",
    "    jogada = m\n",
    "    jogada_ok = False\n",
    "    while jogada_ok == False:\n",
    "        pecas_rest = n - jogada\n",
    "        if pecas_rest % (m + 1) !=0:\n",
    "            return jogada\n",
    "            jogada_ok = True\n",
    "        else:\n",
    "            jogada -+ 1"
   ]
  },
  {
   "cell_type": "code",
   "execution_count": 20,
   "id": "4daf775f",
   "metadata": {},
   "outputs": [],
   "source": [
    "#   Uma função usuario_escolhe_jogada que recebe os mesmos parâmetros, solicita\n",
    "# que o jogador informe sua jogada e verifica se o valor informado é válido. Se \n",
    "# o valor informado for válido, a função deve devolvê-lo; caso contrário, deve \n",
    "# solicitar novamente ao usuário que informe uma jogada válida.\n",
    "\n",
    "def usuario_escolhe_jogada(n, m):\n",
    "    jog_U_inval = True\n",
    "    print(\"Entre com o número de peças que deseja retirar, entre 1 e\", m, \"peça(s).\")\n",
    "    while jog_U_inval:\n",
    "        jogada_U = float(input(\"Peças:\"))\n",
    "        if jogada_U % 1 != 0: #jog_U_inval = True\n",
    "            print(\"Valor deve ser inteiro!\")\n",
    "        else:\n",
    "            if jogada_U > m: #jog_U_inval = True\n",
    "                print(\"Valor deve ser menor ou igual a\", m,\"!!\")\n",
    "            else:\n",
    "                if jogada_U == 0: #jog_U_inval = True\n",
    "                    print(\"Você é obrigado a tirar pelo menos uma peça!!\")\n",
    "                else:\n",
    "                    if jogada_U < 0: #jog_U_inval = True\n",
    "                        print(\"Digite um número inteiro positivo!!\")\n",
    "                    else:\n",
    "                        jog_U_inval = False\n",
    "                        jogada_U = int(jogada_U)\n",
    "    return jogada_U"
   ]
  },
  {
   "cell_type": "code",
   "execution_count": 26,
   "id": "7ff63d73",
   "metadata": {},
   "outputs": [
    {
     "name": "stdout",
     "output_type": "stream",
     "text": [
      "Seja bem vindo ao jogo de NIM!!!!\n",
      "-----------------------------------------\n",
      "Esse jogo se inicia com 'n' peças inicialmente dispostas numa mesa ou tabuleiro.\n",
      "Dois jogadores jogam  alternadamente, retirando pelo menos 1 e no máximo 'm' peças cada um.\n",
      "Quem tirar as últimas peças possíveis ganha o jogo.\n",
      "-----------------------------------------\n",
      "\n",
      "Entre com o número de peças iniciais do jogo. N: 10\n",
      "Agora com o número máx de peças a serem retiradas por jogada. M: 2\n",
      "Você começa!\n",
      "Entre com o número de peças que deseja retirar, entre 1 e 2 peça(s).\n",
      "Peças:1\n",
      "---USUÁRIO---------------------------\n",
      "Retirou 1 peças.\n",
      "Restaram no jogo 9 peças.\n",
      "---COMPUTADOR------------------------\n",
      "Retirou 2 peças.\n",
      "Restaram no jogo 7 peças.\n",
      "-------------------------------------\n",
      "Entre com o número de peças que deseja retirar, entre 1 e 2 peça(s).\n",
      "Peças:2\n",
      "---USUÁRIO---------------------------\n",
      "Retirou 2 peças.\n",
      "Restaram no jogo 5 peças.\n"
     ]
    },
    {
     "ename": "KeyboardInterrupt",
     "evalue": "",
     "output_type": "error",
     "traceback": [
      "\u001b[1;31m---------------------------------------------------------------------------\u001b[0m",
      "\u001b[1;31mKeyboardInterrupt\u001b[0m                         Traceback (most recent call last)",
      "\u001b[1;32m~\\AppData\\Local\\Temp\\ipykernel_8216\\742618893.py\u001b[0m in \u001b[0;36m<module>\u001b[1;34m\u001b[0m\n\u001b[0;32m     22\u001b[0m \u001b[1;32mwhile\u001b[0m \u001b[0mn\u001b[0m \u001b[1;33m>=\u001b[0m \u001b[1;36m0\u001b[0m\u001b[1;33m:\u001b[0m\u001b[1;33m\u001b[0m\u001b[1;33m\u001b[0m\u001b[0m\n\u001b[0;32m     23\u001b[0m     \u001b[1;32mif\u001b[0m \u001b[0mquem_joga\u001b[0m \u001b[1;33m==\u001b[0m \u001b[1;34m\"Computador\"\u001b[0m\u001b[1;33m:\u001b[0m\u001b[1;33m\u001b[0m\u001b[1;33m\u001b[0m\u001b[0m\n\u001b[1;32m---> 24\u001b[1;33m         \u001b[0mjogada\u001b[0m \u001b[1;33m=\u001b[0m \u001b[0mcomputador_escolhe_jogada\u001b[0m\u001b[1;33m(\u001b[0m\u001b[0mn\u001b[0m\u001b[1;33m,\u001b[0m\u001b[0mm\u001b[0m\u001b[1;33m)\u001b[0m\u001b[1;33m\u001b[0m\u001b[1;33m\u001b[0m\u001b[0m\n\u001b[0m\u001b[0;32m     25\u001b[0m         \u001b[0mn\u001b[0m \u001b[1;33m-=\u001b[0m \u001b[0mjogada\u001b[0m\u001b[1;33m\u001b[0m\u001b[1;33m\u001b[0m\u001b[0m\n\u001b[0;32m     26\u001b[0m         \u001b[0mprint\u001b[0m\u001b[1;33m(\u001b[0m\u001b[1;34m\"---COMPUTADOR------------------------\"\u001b[0m\u001b[1;33m)\u001b[0m\u001b[1;33m\u001b[0m\u001b[1;33m\u001b[0m\u001b[0m\n",
      "\u001b[1;32m~\\AppData\\Local\\Temp\\ipykernel_8216\\2534330325.py\u001b[0m in \u001b[0;36mcomputador_escolhe_jogada\u001b[1;34m(n, m)\u001b[0m\n\u001b[0;32m      8\u001b[0m     \u001b[0mjogada_ok\u001b[0m \u001b[1;33m=\u001b[0m \u001b[1;32mFalse\u001b[0m\u001b[1;33m\u001b[0m\u001b[1;33m\u001b[0m\u001b[0m\n\u001b[0;32m      9\u001b[0m     \u001b[1;32mwhile\u001b[0m \u001b[0mjogada_ok\u001b[0m \u001b[1;33m==\u001b[0m \u001b[1;32mFalse\u001b[0m\u001b[1;33m:\u001b[0m\u001b[1;33m\u001b[0m\u001b[1;33m\u001b[0m\u001b[0m\n\u001b[1;32m---> 10\u001b[1;33m         \u001b[0mpecas_rest\u001b[0m \u001b[1;33m=\u001b[0m \u001b[0mn\u001b[0m \u001b[1;33m-\u001b[0m \u001b[0mjogada\u001b[0m\u001b[1;33m\u001b[0m\u001b[1;33m\u001b[0m\u001b[0m\n\u001b[0m\u001b[0;32m     11\u001b[0m         \u001b[1;32mif\u001b[0m \u001b[0mpecas_rest\u001b[0m \u001b[1;33m%\u001b[0m \u001b[1;33m(\u001b[0m\u001b[0mm\u001b[0m \u001b[1;33m+\u001b[0m \u001b[1;36m1\u001b[0m\u001b[1;33m)\u001b[0m \u001b[1;33m!=\u001b[0m\u001b[1;36m0\u001b[0m\u001b[1;33m:\u001b[0m\u001b[1;33m\u001b[0m\u001b[1;33m\u001b[0m\u001b[0m\n\u001b[0;32m     12\u001b[0m             \u001b[1;32mreturn\u001b[0m \u001b[0mjogada\u001b[0m\u001b[1;33m\u001b[0m\u001b[1;33m\u001b[0m\u001b[0m\n",
      "\u001b[1;31mKeyboardInterrupt\u001b[0m: "
     ]
    }
   ],
   "source": [
    "#   Uma função partida que não recebe nenhum parâmetro, solicita ao usuário que informe\n",
    "# os valores de n e m e inicia o jogo, alternando entre jogadas do computador e do usuário \n",
    "# (ou seja, chamadas às duas funções anteriores). A escolha da jogada inicial deve ser \n",
    "# feita em função da estratégia vencedora, como dito anteriormente. A cada jogada, \n",
    "# deve ser impresso na tela o estado atual do jogo, ou seja, quantas peças foram removidas \n",
    "# na última jogada e quantas restam na mesa. Quando a última peça é removida, essa função \n",
    "# imprime na tela a mensagem \"O computador ganhou!\" ou \"Você ganhou!\" conforme o caso.\n",
    "\n",
    "print(\"Seja bem vindo ao jogo de NIM!!!!\")\n",
    "print(\"-----------------------------------------\")\n",
    "print(\"Esse jogo se inicia com 'n' peças inicialmente dispostas numa mesa ou tabuleiro.\")\n",
    "print(\"Dois jogadores jogam  alternadamente, retirando pelo menos 1 e no máximo 'm' peças cada um.\")\n",
    "print(\"Quem tirar as últimas peças possíveis ganha o jogo.\")\n",
    "print(\"-----------------------------------------\")\n",
    "print(\"\")\n",
    "\n",
    "n = int(input(\"Entre com o número de peças iniciais do jogo. N: \"))\n",
    "m = int(input(\"Agora com o número máx de peças a serem retiradas por jogada. M: \"))\n",
    "\n",
    "quem_joga = computador_decide(n, m)\n",
    "\n",
    "while n >= 0:\n",
    "    if quem_joga == \"Computador\":\n",
    "        jogada = computador_escolhe_jogada(n,m)\n",
    "        n -= jogada\n",
    "        print(\"---COMPUTADOR------------------------\")\n",
    "        print(\"Retirou\", jogada, \"peças.\")\n",
    "        print(\"Restaram no jogo\", n, \"peças.\")\n",
    "        print(\"-------------------------------------\")\n",
    "        quem_joga = \"Usuário\"\n",
    "    else:\n",
    "        jogada = usuario_escolhe_jogada(n,m)\n",
    "        n -= jogada\n",
    "        print(\"---USUÁRIO---------------------------\")\n",
    "        print(\"Retirou\", jogada,\"peças.\")\n",
    "        print(\"Restaram no jogo\", n, \"peças.\")\n",
    "        quem_joga = \"Computador\"\n",
    "print(\"Vencedor foi o\", quem_joga)\n",
    "\n",
    "def computador_decide(nn, mm):\n",
    "    resto = nn % (mm+1)\n",
    "    if resto != 0:\n",
    "        print(\"Você começa!\")\n",
    "        return \"Usuário\"\n",
    "    else:\n",
    "        print(\"Computador começa!\")\n",
    "        return \"Computador\""
   ]
  },
  {
   "cell_type": "code",
   "execution_count": null,
   "id": "1634f2d6",
   "metadata": {},
   "outputs": [],
   "source": []
  },
  {
   "cell_type": "code",
   "execution_count": null,
   "id": "a8710c37",
   "metadata": {},
   "outputs": [],
   "source": []
  }
 ],
 "metadata": {
  "kernelspec": {
   "display_name": "Python 3 (ipykernel)",
   "language": "python",
   "name": "python3"
  },
  "language_info": {
   "codemirror_mode": {
    "name": "ipython",
    "version": 3
   },
   "file_extension": ".py",
   "mimetype": "text/x-python",
   "name": "python",
   "nbconvert_exporter": "python",
   "pygments_lexer": "ipython3",
   "version": "3.9.13"
  }
 },
 "nbformat": 4,
 "nbformat_minor": 5
}
