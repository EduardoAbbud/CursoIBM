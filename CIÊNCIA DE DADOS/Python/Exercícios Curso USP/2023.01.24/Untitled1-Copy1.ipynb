{
 "cells": [
  {
   "cell_type": "code",
   "execution_count": 241,
   "id": "69194f0f",
   "metadata": {},
   "outputs": [],
   "source": [
    "import re\n",
    "\n",
    "def le_assinatura():\n",
    "    '''A funcao le os valores dos tracos linguisticos do modelo e devolve uma assinatura a ser comparada com os textos fornecidos'''\n",
    "    print(\"Bem-vindo ao detector automático de COH-PIAH.\")\n",
    "    print(\"Informe a assinatura típica de um aluno infectado:\")\n",
    "\n",
    "    wal = float(input(\"Entre o tamanho médio de palavra:\"))\n",
    "    ttr = float(input(\"Entre a relação Type-Token:\"))\n",
    "    hlr = float(input(\"Entre a Razão Hapax Legomana:\"))\n",
    "    sal = float(input(\"Entre o tamanho médio de sentença:\"))\n",
    "    sac = float(input(\"Entre a complexidade média da sentença:\"))\n",
    "    pal = float(input(\"Entre o tamanho medio de frase:\"))\n",
    "\n",
    "    return [wal, ttr, hlr, sal, sac, pal]"
   ]
  },
  {
   "cell_type": "code",
   "execution_count": 242,
   "id": "d8e51b00",
   "metadata": {},
   "outputs": [],
   "source": [
    "def le_textos():\n",
    "    '''A funcao le todos os textos a serem comparados e devolve uma lista contendo cada texto como um elemento'''\n",
    "    i = 1\n",
    "    textos = []\n",
    "    texto = input(\"Digite o texto \" + str(i) +\" (aperte enter para sair):\")\n",
    "    while texto:\n",
    "        textos.append(texto)\n",
    "        i += 1\n",
    "        texto = input(\"Digite o texto \" + str(i) +\" (aperte enter para sair):\")\n",
    "\n",
    "    return textos"
   ]
  },
  {
   "cell_type": "code",
   "execution_count": 243,
   "id": "414a7e7d",
   "metadata": {},
   "outputs": [],
   "source": [
    "def separa_sentencas(texto):\n",
    "    '''A funcao recebe um texto e devolve uma lista das sentencas dentro do texto'''\n",
    "    sentencas = re.split(r'[.!?]+', texto)\n",
    "    if sentencas[-1] == '':\n",
    "        del sentencas[-1]\n",
    "    return sentencas"
   ]
  },
  {
   "cell_type": "code",
   "execution_count": 244,
   "id": "37c57341",
   "metadata": {},
   "outputs": [],
   "source": [
    "def separa_frases(sentenca):\n",
    "    '''A funcao recebe uma sentenca e devolve uma lista das frases dentro da sentenca'''\n",
    "    return re.split(r'[,:;]+', sentenca)"
   ]
  },
  {
   "cell_type": "code",
   "execution_count": 245,
   "id": "d6ad6ba3",
   "metadata": {},
   "outputs": [],
   "source": [
    "def separa_palavras(frase):\n",
    "    '''A funcao recebe uma frase e devolve uma lista das palavras dentro da frase'''\n",
    "    return frase.split()"
   ]
  },
  {
   "cell_type": "code",
   "execution_count": 246,
   "id": "a482aa83",
   "metadata": {},
   "outputs": [],
   "source": [
    "def n_palavras_unicas(lista_palavras):\n",
    "    '''Essa funcao recebe uma lista de palavras e devolve o numero de palavras que aparecem uma unica vez'''\n",
    "    freq = dict()\n",
    "    unicas = 0\n",
    "    for palavra in lista_palavras:\n",
    "        p = palavra.lower()\n",
    "        if p in freq:\n",
    "            if freq[p] == 1:\n",
    "                unicas -= 1\n",
    "            freq[p] += 1\n",
    "        else:\n",
    "            freq[p] = 1\n",
    "            unicas += 1\n",
    "\n",
    "    return unicas"
   ]
  },
  {
   "cell_type": "code",
   "execution_count": 247,
   "id": "4b7f6d89",
   "metadata": {},
   "outputs": [],
   "source": [
    "def n_palavras_diferentes(lista_palavras):\n",
    "    '''Essa funcao recebe uma lista de palavras e devolve o numero de palavras \n",
    "    diferentes utilizadas'''\n",
    "    freq = dict()\n",
    "    for palavra in lista_palavras:\n",
    "        p = palavra.lower()\n",
    "        if p in freq:\n",
    "            freq[p] += 1\n",
    "        else:\n",
    "            freq[p] = 1\n",
    "\n",
    "    return len(freq)"
   ]
  },
  {
   "cell_type": "code",
   "execution_count": 248,
   "id": "dbb2ed15",
   "metadata": {},
   "outputs": [],
   "source": [
    "def junta_lista_dupla(ListaP):\n",
    "    ListaP_juntada=[]\n",
    "    for i in range(0,len(ListaP)):\n",
    "        for j in range(0,len(ListaP[i])):\n",
    "            ListaP_juntada.append(ListaP[i][j])\n",
    "    return ListaP_juntada"
   ]
  },
  {
   "cell_type": "code",
   "execution_count": 249,
   "id": "8f3232ad",
   "metadata": {
    "scrolled": false
   },
   "outputs": [],
   "source": [
    "#IMPLEMENTAR. Essa funcao recebe um texto e deve devolver a assinatura do texto.\n",
    "def calcula_assinatura(texto):\n",
    "    #print(texto)\n",
    "\n",
    "    Lista_de_sentencas = separa_sentencas(texto)\n",
    "    Quant_palavras = 0\n",
    "    Quant_letras = 0\n",
    "    lista_para_quant_pal = []\n",
    "    Quant_letras_senten = 0\n",
    "    lista_para_quant_frases = []\n",
    "    Quant_frases = 0\n",
    "    Quant_letras_frase = 0\n",
    "    \n",
    "    #print(Lista_de_sentencas)\n",
    "\n",
    "    for j in Lista_de_sentencas:\n",
    "        #print(j)\n",
    "        Lista_de_frases = separa_frases(j)\n",
    "        #print(Lista_de_frases)\n",
    "        Quant_letras_senten += len(j)\n",
    "        lista_para_quant_frases.append(Lista_de_frases)\n",
    "\n",
    "        for k in Lista_de_frases:\n",
    "            #print(k)\n",
    "            Lista_de_palavras = separa_palavras(k)\n",
    "            #print(Lista_de_palavras)\n",
    "            lista_para_quant_pal.append(Lista_de_palavras)\n",
    "            Quant_palavras += (len(Lista_de_palavras))\n",
    "            Quant_letras_frase += len(k)\n",
    "            for ii in Lista_de_palavras:\n",
    "                Quant_letras += len(ii)\n",
    "        #print(lista_para_quant_pal)\n",
    "        \n",
    "    #função criada para juntar listas secundárias        \n",
    "    Quant_palavras_diferentes = n_palavras_diferentes(junta_lista_dupla(lista_para_quant_pal))\n",
    "    Quant_palavras_unicas = n_palavras_unicas(junta_lista_dupla(lista_para_quant_pal))\n",
    "    Quant_frases = len(junta_lista_dupla(lista_para_quant_frases))\n",
    "\n",
    "\n",
    "    #print(len(junta_lista_dupla(lista_para_pal_un)))\n",
    "    #print(Quant_palavras, Quant_letras, Quant_letras / Quant_palavras)\n",
    "    #print(Quant_palavras_diferentes)\n",
    "    #print(Quant_palavras_unicas)\n",
    "\n",
    "    \n",
    "    wal = Quant_letras / Quant_palavras\n",
    "    ttr = Quant_palavras_diferentes / Quant_palavras\n",
    "    hlr = Quant_palavras_unicas / Quant_palavras\n",
    "    sal = Quant_letras_senten / len(Lista_de_sentencas)\n",
    "    sac = Quant_frases / len(Lista_de_sentencas)\n",
    "    pal = Quant_letras_frase / Quant_frases\n",
    "    \n",
    "    assinatura = [wal, ttr, hlr, sal, sac, pal]\n",
    "    \n",
    "    #print(\"wal: \", Quant_letras / Quant_palavras)\n",
    "    #print(\"ttr: \", Quant_palavras_diferentes / Quant_palavras)\n",
    "    #print(\"hlr: \", Quant_palavras_unicas / Quant_palavras)\n",
    "    #print(\"sal: \", Quant_letras_senten / len(Lista_de_sentencas))\n",
    "    #print(\"sac: \", Quant_frases / len(Lista_de_sentencas))\n",
    "    #print(\"pal: \", Quant_letras_frase / Quant_frases)\n",
    "    \n",
    "    return assinatura"
   ]
  },
  {
   "cell_type": "code",
   "execution_count": 250,
   "id": "625fa4f5",
   "metadata": {},
   "outputs": [
    {
     "data": {
      "text/plain": [
       "[4.507142857142857,\n",
       " 0.6928571428571428,\n",
       " 0.55,\n",
       " 70.81818181818181,\n",
       " 1.8181818181818181,\n",
       " 38.5]"
      ]
     },
     "execution_count": 250,
     "metadata": {},
     "output_type": "execute_result"
    }
   ],
   "source": [
    "texto = \"Então resolveu ir brincar com a Máquina pra ser também imperador dos filhos da mandioca. Mas as três cunhas deram muitas risadas e falaram que isso de deuses era gorda mentira antiga, que não tinha deus não e que com a máquina ninguém não brinca porque ela mata. A máquina não era deus não, nem possuía os distintivos femininos de que o herói gostava tanto. Era feita pelos homens. Se mexia com eletricidade com fogo com água com vento com fumo, os homens aproveitando as forças da natureza. Porém jacaré acreditou? nem o herói! Se levantou na cama e com um gesto, esse sim! bem guaçu de desdém, tó! batendo o antebraço esquerdo dentro do outro dobrado, mexeu com energia a munheca direita pras três cunhas e partiu. Nesse instante, falam, ele inventou o gesto famanado de ofensa: a pacova.\"\n",
    "calcula_assinatura(texto)"
   ]
  },
  {
   "cell_type": "code",
   "execution_count": 251,
   "id": "06996fce",
   "metadata": {},
   "outputs": [],
   "source": [
    "#Essa funcao recebe duas assinaturas de texto e deve devolver o grau de similaridade nas assinaturas.\n",
    "def compara_assinatura(as_a, as_b):\n",
    "    Sab = 0\n",
    "    for i in range(0, len(as_a)):\n",
    "        Sab += abs(as_a[i] - as_b[i])\n",
    "    return Sab / 6"
   ]
  },
  {
   "cell_type": "code",
   "execution_count": 257,
   "id": "cb94fa08",
   "metadata": {},
   "outputs": [],
   "source": [
    "#IMPLEMENTAR. Essa funcao recebe uma lista de textos e uma assinatura ass_cp e\n",
    "#deve devolver o numero (1 a n) do texto com maior probabilidade de ter sido infectado por COH-PIAH.\n",
    "def avalia_textos(textos, ass_cp):\n",
    "    #posicao_do_infectado = 0\n",
    "    nota_do_infectado = 9999\n",
    "    for i in range(len(textos)):\n",
    "        Assinatura_texto = calcula_assinatura(textos[i])\n",
    "        #print(Assinatura_texto)\n",
    "        Nota_de_avaliação = compara_assinatura(Assinatura_texto, ass_cp)\n",
    "        #print(Nota_de_avaliação)\n",
    "        if Nota_de_avaliação < nota_do_infectado:\n",
    "            nota_do_infectado = Nota_de_avaliação\n",
    "            posição_do_infectado = i + 1\n",
    "    return posição_do_infectado"
   ]
  },
  {
   "cell_type": "code",
   "execution_count": 258,
   "id": "57e3fc4f",
   "metadata": {},
   "outputs": [
    {
     "name": "stdout",
     "output_type": "stream",
     "text": [
      "8.764949685534594\n",
      "5.255776963776965\n",
      "7.309231119241955\n",
      "O autor do texto 2 está infectado com COH-PIAH\n"
     ]
    }
   ],
   "source": [
    "#Ler a referência de assinatura\n",
    "ass_ref = le_assinatura()\n",
    "\n",
    "#Ler os textos a serem avaliados\n",
    "Lista_de_textos = le_textos()\n",
    "\n",
    "#Chamar a subrotina\n",
    "n = avalia_textos(Lista_de_textos, ass_ref)\n",
    "\n",
    "#Dar uma resposta\n",
    "print(\"O autor do texto\", n, \"está infectado com COH-PIAH\")"
   ]
  },
  {
   "cell_type": "code",
   "execution_count": null,
   "id": "0384ce9c",
   "metadata": {},
   "outputs": [],
   "source": []
  }
 ],
 "metadata": {
  "kernelspec": {
   "display_name": "Python 3 (ipykernel)",
   "language": "python",
   "name": "python3"
  },
  "language_info": {
   "codemirror_mode": {
    "name": "ipython",
    "version": 3
   },
   "file_extension": ".py",
   "mimetype": "text/x-python",
   "name": "python",
   "nbconvert_exporter": "python",
   "pygments_lexer": "ipython3",
   "version": "3.9.13"
  }
 },
 "nbformat": 4,
 "nbformat_minor": 5
}
